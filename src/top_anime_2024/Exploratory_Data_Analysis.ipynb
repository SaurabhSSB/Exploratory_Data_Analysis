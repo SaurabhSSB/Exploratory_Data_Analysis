{
 "cells": [
  {
   "cell_type": "code",
   "execution_count": 1,
   "id": "5db04fb5-cec6-43df-8249-beb707d12a07",
   "metadata": {},
   "outputs": [],
   "source": [
    "import numpy as np\n",
    "import pandas as pd\n",
    "import matplotlib.pyplot as plt\n",
    "import seaborn as sns"
   ]
  },
  {
   "cell_type": "code",
   "execution_count": 2,
   "id": "2e617c03-d417-4718-9086-accde3dcb160",
   "metadata": {},
   "outputs": [],
   "source": [
    "df= pd.read_csv(\"Top_Anime_data.csv\")"
   ]
  },
  {
   "cell_type": "code",
   "execution_count": 3,
   "id": "7a415973-194c-430b-8168-07c9fc5bdb5d",
   "metadata": {},
   "outputs": [
    {
     "data": {
      "text/html": [
       "<div>\n",
       "<style scoped>\n",
       "    .dataframe tbody tr th:only-of-type {\n",
       "        vertical-align: middle;\n",
       "    }\n",
       "\n",
       "    .dataframe tbody tr th {\n",
       "        vertical-align: top;\n",
       "    }\n",
       "\n",
       "    .dataframe thead th {\n",
       "        text-align: right;\n",
       "    }\n",
       "</style>\n",
       "<table border=\"1\" class=\"dataframe\">\n",
       "  <thead>\n",
       "    <tr style=\"text-align: right;\">\n",
       "      <th></th>\n",
       "      <th>Score</th>\n",
       "      <th>Popularity</th>\n",
       "      <th>Rank</th>\n",
       "      <th>Members</th>\n",
       "      <th>Description</th>\n",
       "      <th>Synonyms</th>\n",
       "      <th>Japanese</th>\n",
       "      <th>English</th>\n",
       "      <th>Type</th>\n",
       "      <th>Episodes</th>\n",
       "      <th>...</th>\n",
       "      <th>Premiered</th>\n",
       "      <th>Broadcast</th>\n",
       "      <th>Producers</th>\n",
       "      <th>Licensors</th>\n",
       "      <th>Studios</th>\n",
       "      <th>Source</th>\n",
       "      <th>Genres</th>\n",
       "      <th>Demographic</th>\n",
       "      <th>Duration</th>\n",
       "      <th>Rating</th>\n",
       "    </tr>\n",
       "  </thead>\n",
       "  <tbody>\n",
       "    <tr>\n",
       "      <th>0</th>\n",
       "      <td>9.38</td>\n",
       "      <td>284</td>\n",
       "      <td>1</td>\n",
       "      <td>710</td>\n",
       "      <td>During their decade-long quest to defeat the D...</td>\n",
       "      <td>Frieren at the Funeral</td>\n",
       "      <td>葬送のフリーレン</td>\n",
       "      <td>Frieren: Beyond Journey's End</td>\n",
       "      <td>TV</td>\n",
       "      <td>28</td>\n",
       "      <td>...</td>\n",
       "      <td>Fall 2023</td>\n",
       "      <td>Fridays at 23:00 (JST)</td>\n",
       "      <td>Aniplex, Dentsu, Shogakukan-Shueisha Productio...</td>\n",
       "      <td>None found, add some</td>\n",
       "      <td>Madhouse</td>\n",
       "      <td>Manga</td>\n",
       "      <td>AdventureAdventure, DramaDrama, FantasyFantasy</td>\n",
       "      <td>ShounenShounen</td>\n",
       "      <td>24 min. per ep.</td>\n",
       "      <td>PG-13 - Teens 13 or older</td>\n",
       "    </tr>\n",
       "    <tr>\n",
       "      <th>1</th>\n",
       "      <td>9.09</td>\n",
       "      <td>3</td>\n",
       "      <td>2</td>\n",
       "      <td>3</td>\n",
       "      <td>After a horrific alchemy experiment goes wrong...</td>\n",
       "      <td>Hagane no Renkinjutsushi: Fullmetal Alchemist,...</td>\n",
       "      <td>鋼の錬金術師 FULLMETAL ALCHEMIST</td>\n",
       "      <td>Fullmetal Alchemist: Brotherhood</td>\n",
       "      <td>TV</td>\n",
       "      <td>64</td>\n",
       "      <td>...</td>\n",
       "      <td>Spring 2009</td>\n",
       "      <td>Sundays at 17:00 (JST)</td>\n",
       "      <td>Aniplex, Square Enix, Mainichi Broadcasting Sy...</td>\n",
       "      <td>Funimation, Aniplex of America</td>\n",
       "      <td>Bones</td>\n",
       "      <td>Manga</td>\n",
       "      <td>ActionAction, AdventureAdventure, DramaDrama, ...</td>\n",
       "      <td>ShounenShounen</td>\n",
       "      <td>24 min. per ep.</td>\n",
       "      <td>R - 17+ (violence &amp; profanity)</td>\n",
       "    </tr>\n",
       "    <tr>\n",
       "      <th>2</th>\n",
       "      <td>9.07</td>\n",
       "      <td>13</td>\n",
       "      <td>3</td>\n",
       "      <td>2</td>\n",
       "      <td>Eccentric scientist Rintarou Okabe has a never...</td>\n",
       "      <td>NaN</td>\n",
       "      <td>STEINS;GATE</td>\n",
       "      <td>Steins;Gate</td>\n",
       "      <td>TV</td>\n",
       "      <td>24</td>\n",
       "      <td>...</td>\n",
       "      <td>Spring 2011</td>\n",
       "      <td>Wednesdays at 02:05 (JST)</td>\n",
       "      <td>Frontier Works, Media Factory, Kadokawa Shoten...</td>\n",
       "      <td>Funimation</td>\n",
       "      <td>White Fox</td>\n",
       "      <td>Visual novel</td>\n",
       "      <td>DramaDrama, Sci-FiSci-Fi, SuspenseSuspense</td>\n",
       "      <td>NaN</td>\n",
       "      <td>24 min. per ep.</td>\n",
       "      <td>PG-13 - Teens 13 or older</td>\n",
       "    </tr>\n",
       "    <tr>\n",
       "      <th>3</th>\n",
       "      <td>9.06</td>\n",
       "      <td>342</td>\n",
       "      <td>4</td>\n",
       "      <td>630</td>\n",
       "      <td>Gintoki, Shinpachi, and Kagura return as the f...</td>\n",
       "      <td>Gintama' (2015)</td>\n",
       "      <td>銀魂°</td>\n",
       "      <td>Gintama Season 4</td>\n",
       "      <td>TV</td>\n",
       "      <td>51</td>\n",
       "      <td>...</td>\n",
       "      <td>Spring 2015</td>\n",
       "      <td>Wednesdays at 18:00 (JST)</td>\n",
       "      <td>TV Tokyo, Aniplex, Dentsu</td>\n",
       "      <td>Funimation, Crunchyroll</td>\n",
       "      <td>Bandai Namco Pictures</td>\n",
       "      <td>Manga</td>\n",
       "      <td>ActionAction, ComedyComedy, Sci-FiSci-Fi</td>\n",
       "      <td>ShounenShounen</td>\n",
       "      <td>24 min. per ep.</td>\n",
       "      <td>PG-13 - Teens 13 or older</td>\n",
       "    </tr>\n",
       "    <tr>\n",
       "      <th>4</th>\n",
       "      <td>9.05</td>\n",
       "      <td>21</td>\n",
       "      <td>5</td>\n",
       "      <td>2</td>\n",
       "      <td>Seeking to restore humanity's diminishing hope...</td>\n",
       "      <td>NaN</td>\n",
       "      <td>進撃の巨人 Season3 Part.2</td>\n",
       "      <td>Attack on Titan Season 3 Part 2</td>\n",
       "      <td>TV</td>\n",
       "      <td>10</td>\n",
       "      <td>...</td>\n",
       "      <td>Spring 2019</td>\n",
       "      <td>Mondays at 00:10 (JST)</td>\n",
       "      <td>Production I.G, Dentsu, Mainichi Broadcasting ...</td>\n",
       "      <td>Funimation</td>\n",
       "      <td>Wit Studio</td>\n",
       "      <td>Manga</td>\n",
       "      <td>ActionAction, DramaDrama, SuspenseSuspense</td>\n",
       "      <td>ShounenShounen</td>\n",
       "      <td>23 min. per ep.</td>\n",
       "      <td>R - 17+ (violence &amp; profanity)</td>\n",
       "    </tr>\n",
       "  </tbody>\n",
       "</table>\n",
       "<p>5 rows × 22 columns</p>\n",
       "</div>"
      ],
      "text/plain": [
       "   Score  Popularity  Rank  Members  \\\n",
       "0   9.38         284     1      710   \n",
       "1   9.09           3     2        3   \n",
       "2   9.07          13     3        2   \n",
       "3   9.06         342     4      630   \n",
       "4   9.05          21     5        2   \n",
       "\n",
       "                                         Description  \\\n",
       "0  During their decade-long quest to defeat the D...   \n",
       "1  After a horrific alchemy experiment goes wrong...   \n",
       "2  Eccentric scientist Rintarou Okabe has a never...   \n",
       "3  Gintoki, Shinpachi, and Kagura return as the f...   \n",
       "4  Seeking to restore humanity's diminishing hope...   \n",
       "\n",
       "                                            Synonyms  \\\n",
       "0                             Frieren at the Funeral   \n",
       "1  Hagane no Renkinjutsushi: Fullmetal Alchemist,...   \n",
       "2                                                NaN   \n",
       "3                                    Gintama' (2015)   \n",
       "4                                                NaN   \n",
       "\n",
       "                     Japanese                           English Type Episodes  \\\n",
       "0                    葬送のフリーレン     Frieren: Beyond Journey's End   TV       28   \n",
       "1  鋼の錬金術師 FULLMETAL ALCHEMIST  Fullmetal Alchemist: Brotherhood   TV       64   \n",
       "2                 STEINS;GATE                       Steins;Gate   TV       24   \n",
       "3                         銀魂°                  Gintama Season 4   TV       51   \n",
       "4        進撃の巨人 Season3 Part.2   Attack on Titan Season 3 Part 2   TV       10   \n",
       "\n",
       "   ...    Premiered                  Broadcast  \\\n",
       "0  ...    Fall 2023     Fridays at 23:00 (JST)   \n",
       "1  ...  Spring 2009     Sundays at 17:00 (JST)   \n",
       "2  ...  Spring 2011  Wednesdays at 02:05 (JST)   \n",
       "3  ...  Spring 2015  Wednesdays at 18:00 (JST)   \n",
       "4  ...  Spring 2019     Mondays at 00:10 (JST)   \n",
       "\n",
       "                                           Producers  \\\n",
       "0  Aniplex, Dentsu, Shogakukan-Shueisha Productio...   \n",
       "1  Aniplex, Square Enix, Mainichi Broadcasting Sy...   \n",
       "2  Frontier Works, Media Factory, Kadokawa Shoten...   \n",
       "3                          TV Tokyo, Aniplex, Dentsu   \n",
       "4  Production I.G, Dentsu, Mainichi Broadcasting ...   \n",
       "\n",
       "                        Licensors                Studios        Source  \\\n",
       "0            None found, add some               Madhouse         Manga   \n",
       "1  Funimation, Aniplex of America                  Bones         Manga   \n",
       "2                      Funimation              White Fox  Visual novel   \n",
       "3         Funimation, Crunchyroll  Bandai Namco Pictures         Manga   \n",
       "4                      Funimation             Wit Studio         Manga   \n",
       "\n",
       "                                              Genres     Demographic  \\\n",
       "0     AdventureAdventure, DramaDrama, FantasyFantasy  ShounenShounen   \n",
       "1  ActionAction, AdventureAdventure, DramaDrama, ...  ShounenShounen   \n",
       "2         DramaDrama, Sci-FiSci-Fi, SuspenseSuspense             NaN   \n",
       "3           ActionAction, ComedyComedy, Sci-FiSci-Fi  ShounenShounen   \n",
       "4         ActionAction, DramaDrama, SuspenseSuspense  ShounenShounen   \n",
       "\n",
       "          Duration                          Rating  \n",
       "0  24 min. per ep.       PG-13 - Teens 13 or older  \n",
       "1  24 min. per ep.  R - 17+ (violence & profanity)  \n",
       "2  24 min. per ep.       PG-13 - Teens 13 or older  \n",
       "3  24 min. per ep.       PG-13 - Teens 13 or older  \n",
       "4  23 min. per ep.  R - 17+ (violence & profanity)  \n",
       "\n",
       "[5 rows x 22 columns]"
      ]
     },
     "execution_count": 3,
     "metadata": {},
     "output_type": "execute_result"
    }
   ],
   "source": [
    "df.head()"
   ]
  },
  {
   "cell_type": "code",
   "execution_count": 6,
   "id": "91cd3f8d-716b-4991-a3bc-6a68c609528a",
   "metadata": {},
   "outputs": [
    {
     "data": {
      "text/plain": [
       "(1000, 22)"
      ]
     },
     "execution_count": 6,
     "metadata": {},
     "output_type": "execute_result"
    }
   ],
   "source": [
    "df.shape"
   ]
  },
  {
   "cell_type": "code",
   "execution_count": 8,
   "id": "19a8ad7f-4465-4e05-9d6b-ac26f18e7ca8",
   "metadata": {},
   "outputs": [
    {
     "name": "stdout",
     "output_type": "stream",
     "text": [
      "<class 'pandas.core.frame.DataFrame'>\n",
      "RangeIndex: 1000 entries, 0 to 999\n",
      "Data columns (total 22 columns):\n",
      " #   Column       Non-Null Count  Dtype  \n",
      "---  ------       --------------  -----  \n",
      " 0   Score        1000 non-null   float64\n",
      " 1   Popularity   1000 non-null   int64  \n",
      " 2   Rank         1000 non-null   int64  \n",
      " 3   Members      1000 non-null   int64  \n",
      " 4   Description  1000 non-null   object \n",
      " 5   Synonyms     709 non-null    object \n",
      " 6   Japanese     999 non-null    object \n",
      " 7   English      859 non-null    object \n",
      " 8   Type         1000 non-null   object \n",
      " 9   Episodes     1000 non-null   object \n",
      " 10  Status       1000 non-null   object \n",
      " 11  Aired        1000 non-null   object \n",
      " 12  Premiered    569 non-null    object \n",
      " 13  Broadcast    569 non-null    object \n",
      " 14  Producers    1000 non-null   object \n",
      " 15  Licensors    1000 non-null   object \n",
      " 16  Studios      1000 non-null   object \n",
      " 17  Source       1000 non-null   object \n",
      " 18  Genres       771 non-null    object \n",
      " 19  Demographic  521 non-null    object \n",
      " 20  Duration     1000 non-null   object \n",
      " 21  Rating       1000 non-null   object \n",
      "dtypes: float64(1), int64(3), object(18)\n",
      "memory usage: 172.0+ KB\n"
     ]
    }
   ],
   "source": [
    "df.info()"
   ]
  },
  {
   "cell_type": "code",
   "execution_count": 9,
   "id": "b7fec5f8-d156-4431-9cc1-65dfe7ee6790",
   "metadata": {},
   "outputs": [
    {
     "data": {
      "text/html": [
       "<div>\n",
       "<style scoped>\n",
       "    .dataframe tbody tr th:only-of-type {\n",
       "        vertical-align: middle;\n",
       "    }\n",
       "\n",
       "    .dataframe tbody tr th {\n",
       "        vertical-align: top;\n",
       "    }\n",
       "\n",
       "    .dataframe thead th {\n",
       "        text-align: right;\n",
       "    }\n",
       "</style>\n",
       "<table border=\"1\" class=\"dataframe\">\n",
       "  <thead>\n",
       "    <tr style=\"text-align: right;\">\n",
       "      <th></th>\n",
       "      <th>Score</th>\n",
       "      <th>Popularity</th>\n",
       "      <th>Rank</th>\n",
       "      <th>Members</th>\n",
       "    </tr>\n",
       "  </thead>\n",
       "  <tbody>\n",
       "    <tr>\n",
       "      <th>count</th>\n",
       "      <td>1000.000000</td>\n",
       "      <td>1000.000000</td>\n",
       "      <td>1000.000000</td>\n",
       "      <td>1000.000000</td>\n",
       "    </tr>\n",
       "    <tr>\n",
       "      <th>mean</th>\n",
       "      <td>8.156580</td>\n",
       "      <td>1805.637000</td>\n",
       "      <td>500.500000</td>\n",
       "      <td>223.648000</td>\n",
       "    </tr>\n",
       "    <tr>\n",
       "      <th>std</th>\n",
       "      <td>0.284344</td>\n",
       "      <td>1888.308553</td>\n",
       "      <td>288.819436</td>\n",
       "      <td>246.288299</td>\n",
       "    </tr>\n",
       "    <tr>\n",
       "      <th>min</th>\n",
       "      <td>7.800000</td>\n",
       "      <td>1.000000</td>\n",
       "      <td>1.000000</td>\n",
       "      <td>1.000000</td>\n",
       "    </tr>\n",
       "    <tr>\n",
       "      <th>25%</th>\n",
       "      <td>7.920000</td>\n",
       "      <td>413.750000</td>\n",
       "      <td>250.750000</td>\n",
       "      <td>31.750000</td>\n",
       "    </tr>\n",
       "    <tr>\n",
       "      <th>50%</th>\n",
       "      <td>8.100000</td>\n",
       "      <td>1139.500000</td>\n",
       "      <td>500.500000</td>\n",
       "      <td>132.000000</td>\n",
       "    </tr>\n",
       "    <tr>\n",
       "      <th>75%</th>\n",
       "      <td>8.312500</td>\n",
       "      <td>2633.750000</td>\n",
       "      <td>750.250000</td>\n",
       "      <td>330.000000</td>\n",
       "    </tr>\n",
       "    <tr>\n",
       "      <th>max</th>\n",
       "      <td>9.380000</td>\n",
       "      <td>12043.000000</td>\n",
       "      <td>1000.000000</td>\n",
       "      <td>998.000000</td>\n",
       "    </tr>\n",
       "  </tbody>\n",
       "</table>\n",
       "</div>"
      ],
      "text/plain": [
       "             Score    Popularity         Rank      Members\n",
       "count  1000.000000   1000.000000  1000.000000  1000.000000\n",
       "mean      8.156580   1805.637000   500.500000   223.648000\n",
       "std       0.284344   1888.308553   288.819436   246.288299\n",
       "min       7.800000      1.000000     1.000000     1.000000\n",
       "25%       7.920000    413.750000   250.750000    31.750000\n",
       "50%       8.100000   1139.500000   500.500000   132.000000\n",
       "75%       8.312500   2633.750000   750.250000   330.000000\n",
       "max       9.380000  12043.000000  1000.000000   998.000000"
      ]
     },
     "execution_count": 9,
     "metadata": {},
     "output_type": "execute_result"
    }
   ],
   "source": [
    "df.describe()"
   ]
  },
  {
   "cell_type": "code",
   "execution_count": 58,
   "id": "b2c448b8-b8fb-4b05-967a-bc6bdc21002d",
   "metadata": {},
   "outputs": [
    {
     "data": {
      "text/plain": [
       "Score            0\n",
       "Popularity       0\n",
       "Rank             0\n",
       "Members          0\n",
       "Description      0\n",
       "Synonyms         0\n",
       "Japanese         0\n",
       "English          0\n",
       "Type             0\n",
       "Episodes         0\n",
       "Status           0\n",
       "Aired            0\n",
       "Premiered      431\n",
       "Broadcast      431\n",
       "Producers        0\n",
       "Licensors        0\n",
       "Studios          0\n",
       "Source           0\n",
       "Genres           0\n",
       "Demographic      0\n",
       "Duration         0\n",
       "Rating           0\n",
       "dtype: int64"
      ]
     },
     "execution_count": 58,
     "metadata": {},
     "output_type": "execute_result"
    }
   ],
   "source": [
    "df.isnull().sum()"
   ]
  },
  {
   "cell_type": "code",
   "execution_count": 57,
   "id": "f430770c-a5ac-4c61-8ce8-c2bbef12090b",
   "metadata": {},
   "outputs": [
    {
     "data": {
      "text/plain": [
       "Synonyms       0\n",
       "English        0\n",
       "Japanese       0\n",
       "Genres         0\n",
       "Demographic    0\n",
       "dtype: int64"
      ]
     },
     "execution_count": 57,
     "metadata": {},
     "output_type": "execute_result"
    }
   ],
   "source": [
    "df['Synonyms']=df['Synonyms'].fillna('None')\n",
    "df['Japanese']=df['Japanese'].fillna('-')\n",
    "df['English']=df['English'].fillna('NA')\n",
    "df['Genres']=df['Genres'].fillna('Not Specified')\n",
    "df['Demographic']=df['Demographic'].fillna('Not Specified')\n",
    "df[['Synonyms','English','Japanese','Genres','Demographic']].isnull().sum()"
   ]
  },
  {
   "cell_type": "code",
   "execution_count": 67,
   "id": "0f77bfb9-f7f7-49d8-9078-a91b84ce850a",
   "metadata": {},
   "outputs": [
    {
     "data": {
      "text/plain": [
       "238"
      ]
     },
     "execution_count": 67,
     "metadata": {},
     "output_type": "execute_result"
    }
   ],
   "source": [
    "df.Genres.nunique()"
   ]
  },
  {
   "cell_type": "code",
   "execution_count": 64,
   "id": "d4df577d-111e-498b-a02b-58b2a1e8ac91",
   "metadata": {},
   "outputs": [
    {
     "data": {
      "text/plain": [
       "0     [AdventureAdventure, DramaDrama, FantasyFantasy]\n",
       "1    [ActionAction, AdventureAdventure, DramaDrama,...\n",
       "2         [DramaDrama, Sci-FiSci-Fi, SuspenseSuspense]\n",
       "3           [ActionAction, ComedyComedy, Sci-FiSci-Fi]\n",
       "4         [ActionAction, DramaDrama, SuspenseSuspense]\n",
       "5    [ActionAction, ComedyComedy, DramaDrama, Sci-F...\n",
       "6    [ActionAction, AdventureAdventure, FantasyFant...\n",
       "7           [ActionAction, ComedyComedy, Sci-FiSci-Fi]\n",
       "8    [ActionAction, AdventureAdventure, FantasyFant...\n",
       "Name: Genres, dtype: object"
      ]
     },
     "execution_count": 64,
     "metadata": {},
     "output_type": "execute_result"
    }
   ],
   "source": [
    "df[=df.Genres.str.split(', ')\n",
    "df_Genres.head(9)"
   ]
  },
  {
   "cell_type": "code",
   "execution_count": 51,
   "id": "ace9749c-e8d4-4f8d-bc78-f4eb4c98cce0",
   "metadata": {},
   "outputs": [],
   "source": [
    "df.loc[df['Demographic'] == \"ShounenShounen\", 'Demographic'] = \"Shounen\"\n",
    "df.loc[df['Demographic'] == \"SeinenSeinen\", 'Demographic'] = \"Seinen\"\n",
    "df.loc[df['Demographic'] == \"ShoujoShoujo\", 'Demographic'] = \"Shoujo\"\n",
    "df.loc[df['Demographic'] == \"JoseiJosei\", 'Demographic'] = \"Josei\"\n",
    "df.loc[df['Demographic'] == \"KidsKids\", 'Demographic'] = \"Kids\"\n"
   ]
  },
  {
   "cell_type": "code",
   "execution_count": 52,
   "id": "28f4f37a-fb0b-495f-80ce-e246bdc34d19",
   "metadata": {},
   "outputs": [
    {
     "data": {
      "text/plain": [
       "array(['Shounen', 'Not Specified', 'Seinen', 'Shoujo', 'Josei', 'Kids'],\n",
       "      dtype=object)"
      ]
     },
     "execution_count": 52,
     "metadata": {},
     "output_type": "execute_result"
    }
   ],
   "source": [
    "df.Demographic.unique()"
   ]
  },
  {
   "cell_type": "code",
   "execution_count": null,
   "id": "3dbb7a11-2d23-4089-8d99-45a6d971879c",
   "metadata": {},
   "outputs": [],
   "source": []
  }
 ],
 "metadata": {
  "kernelspec": {
   "display_name": "Python 3 (ipykernel)",
   "language": "python",
   "name": "python3"
  },
  "language_info": {
   "codemirror_mode": {
    "name": "ipython",
    "version": 3
   },
   "file_extension": ".py",
   "mimetype": "text/x-python",
   "name": "python",
   "nbconvert_exporter": "python",
   "pygments_lexer": "ipython3",
   "version": "3.13.2"
  }
 },
 "nbformat": 4,
 "nbformat_minor": 5
}
